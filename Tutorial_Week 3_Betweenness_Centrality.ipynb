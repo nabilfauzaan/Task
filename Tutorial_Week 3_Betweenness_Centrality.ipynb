{
  "nbformat": 4,
  "nbformat_minor": 0,
  "metadata": {
    "colab": {
      "name": "Tutorial Betweenness Centrality.ipynb",
      "provenance": [],
      "collapsed_sections": []
    },
    "kernelspec": {
      "name": "python3",
      "display_name": "Python 3"
    }
  },
  "cells": [
    {
      "cell_type": "markdown",
      "metadata": {
        "id": "BCfZTIcdGf2l",
        "colab_type": "text"
      },
      "source": [
        "# **CENTRALITY MEASUREMENT**\n",
        "\n",
        "\n",
        "**Implement Betweenness Centrality in Python.**\n",
        "\n",
        "\n",
        "\n",
        "\n",
        "\n",
        "> **Input:** adjacency matrix\n",
        "\n",
        "\n",
        "> **Output:** a list or vector of centrality values\n",
        "\n",
        "\n",
        "\n",
        "\n",
        "\n"
      ]
    },
    {
      "cell_type": "markdown",
      "metadata": {
        "id": "0U0U9uA0Ezf0",
        "colab_type": "text"
      },
      "source": [
        "Import Library\n"
      ]
    },
    {
      "cell_type": "code",
      "metadata": {
        "id": "_4kQlGAIEs1j",
        "colab_type": "code",
        "colab": {}
      },
      "source": [
        "import numpy as np\n",
        "import networkx as nx\n",
        "import matplotlib.pyplot as plt"
      ],
      "execution_count": 1,
      "outputs": []
    },
    {
      "cell_type": "markdown",
      "metadata": {
        "id": "cWo5hC9kE4rL",
        "colab_type": "text"
      },
      "source": [
        "**Creating Graph**\n",
        "\n",
        "Input: adjacency matrix\n"
      ]
    },
    {
      "cell_type": "code",
      "metadata": {
        "id": "LhCECTGtE4NO",
        "colab_type": "code",
        "colab": {
          "base_uri": "https://localhost:8080/",
          "height": 187
        },
        "outputId": "cea598ff-dbc9-4403-d366-0c3b6f51eaaa"
      },
      "source": [
        "A = np.array([[0,1,1,1,0,0,0,0,0],[1,0,1,0,0,0,0,0,0],[1,1,0,1,0,0,0,0,0],[1,0,1,0,1,1,0,0,0],[0,0,0,1,0,1,1,1,0],\n",
        "              [0,0,0,1,1,0,1,1,0],[0,0,0,0,1,1,0,1,1],[0,0,0,0,1,1,1,0,0],[0,0,0,0,0,0,1,0,0]])\n",
        "mat_size = len(A)\n",
        "print(\"Graph of Size\", mat_size,\":\")\n",
        "print(A)"
      ],
      "execution_count": 2,
      "outputs": [
        {
          "output_type": "stream",
          "text": [
            "Graph of Size 9 :\n",
            "[[0 1 1 1 0 0 0 0 0]\n",
            " [1 0 1 0 0 0 0 0 0]\n",
            " [1 1 0 1 0 0 0 0 0]\n",
            " [1 0 1 0 1 1 0 0 0]\n",
            " [0 0 0 1 0 1 1 1 0]\n",
            " [0 0 0 1 1 0 1 1 0]\n",
            " [0 0 0 0 1 1 0 1 1]\n",
            " [0 0 0 0 1 1 1 0 0]\n",
            " [0 0 0 0 0 0 1 0 0]]\n"
          ],
          "name": "stdout"
        }
      ]
    },
    {
      "cell_type": "markdown",
      "metadata": {
        "id": "hrBOa0RcTsec",
        "colab_type": "text"
      },
      "source": [
        "**Initializing Graphs and Matrices:**"
      ]
    },
    {
      "cell_type": "code",
      "metadata": {
        "id": "6aMjfsNzSYEK",
        "colab_type": "code",
        "colab": {
          "base_uri": "https://localhost:8080/",
          "height": 170
        },
        "outputId": "0536ed87-19c7-44d5-fd5b-a05b45f08b17"
      },
      "source": [
        "# Converting it to a NetworkX Graph:\n",
        "temp_Graph = nx.from_numpy_matrix(A)\n",
        "\n",
        "# Creating a blank Step Matrix \n",
        "step_mat = np.zeros((mat_size,mat_size))\n",
        "step_mat"
      ],
      "execution_count": 3,
      "outputs": [
        {
          "output_type": "execute_result",
          "data": {
            "text/plain": [
              "array([[0., 0., 0., 0., 0., 0., 0., 0., 0.],\n",
              "       [0., 0., 0., 0., 0., 0., 0., 0., 0.],\n",
              "       [0., 0., 0., 0., 0., 0., 0., 0., 0.],\n",
              "       [0., 0., 0., 0., 0., 0., 0., 0., 0.],\n",
              "       [0., 0., 0., 0., 0., 0., 0., 0., 0.],\n",
              "       [0., 0., 0., 0., 0., 0., 0., 0., 0.],\n",
              "       [0., 0., 0., 0., 0., 0., 0., 0., 0.],\n",
              "       [0., 0., 0., 0., 0., 0., 0., 0., 0.],\n",
              "       [0., 0., 0., 0., 0., 0., 0., 0., 0.]])"
            ]
          },
          "metadata": {
            "tags": []
          },
          "execution_count": 3
        }
      ]
    },
    {
      "cell_type": "markdown",
      "metadata": {
        "id": "eYEwWCAxT0zY",
        "colab_type": "text"
      },
      "source": [
        "**Calculate Step Matrix for A[pow_size]:**"
      ]
    },
    {
      "cell_type": "code",
      "metadata": {
        "id": "gSpwuRU6T2bX",
        "colab_type": "code",
        "colab": {
          "base_uri": "https://localhost:8080/",
          "height": 170
        },
        "outputId": "186364c3-46b1-45a7-b871-8a4cb30c9fb0"
      },
      "source": [
        "# Calculate the steps in between nodes and save it in the step matrix:\n",
        "def step_betn_nodes(step_mat):\n",
        "    for from_node in range(mat_size):\n",
        "        for to_node in range(mat_size):\n",
        "            lengthPath = nx.dijkstra_path_length(temp_Graph, from_node, to_node)\n",
        "            #print(\"Path Length: \",lengthPath)\n",
        "            step_mat[from_node][to_node] = lengthPath\n",
        "            step_mat[to_node][from_node] = lengthPath\n",
        "\n",
        "step_betn_nodes(step_mat)\n",
        "print(step_mat)"
      ],
      "execution_count": 4,
      "outputs": [
        {
          "output_type": "stream",
          "text": [
            "[[0. 1. 1. 1. 2. 2. 3. 3. 4.]\n",
            " [1. 0. 1. 2. 3. 3. 4. 4. 5.]\n",
            " [1. 1. 0. 1. 2. 2. 3. 3. 4.]\n",
            " [1. 2. 1. 0. 1. 1. 2. 2. 3.]\n",
            " [2. 3. 2. 1. 0. 1. 1. 1. 2.]\n",
            " [2. 3. 2. 1. 1. 0. 1. 1. 2.]\n",
            " [3. 4. 3. 2. 1. 1. 0. 1. 1.]\n",
            " [3. 4. 3. 2. 1. 1. 1. 0. 2.]\n",
            " [4. 5. 4. 3. 2. 2. 1. 2. 0.]]\n"
          ],
          "name": "stdout"
        }
      ]
    },
    {
      "cell_type": "markdown",
      "metadata": {
        "id": "3LfVz3VHXIoO",
        "colab_type": "text"
      },
      "source": [
        "Get the maximum value in the step_matrix:"
      ]
    },
    {
      "cell_type": "code",
      "metadata": {
        "id": "88nz7dqYXGzF",
        "colab_type": "code",
        "colab": {}
      },
      "source": [
        "pow_size = int(step_mat.max())+1"
      ],
      "execution_count": 5,
      "outputs": []
    },
    {
      "cell_type": "markdown",
      "metadata": {
        "id": "kusfxon0XOCh",
        "colab_type": "text"
      },
      "source": [
        "CLAIM: The maximum no. in the step matrix will be the A_powers iteration when the values (except in the diagonal) would be greater than zero everytime"
      ]
    },
    {
      "cell_type": "code",
      "metadata": {
        "id": "NL29IsLYXRHv",
        "colab_type": "code",
        "colab": {}
      },
      "source": [
        "# Get a list of all powers of A up through the fifth power.\n",
        "# We need to stop when all entries are positive\n",
        "#A_powers = [np.linalg.matrix_power(A,m) for m in [1,2,3,4,5]]\n",
        "A_powers = [np.linalg.matrix_power(A,m) for m in range(1,pow_size)]"
      ],
      "execution_count": 6,
      "outputs": []
    },
    {
      "cell_type": "code",
      "metadata": {
        "id": "XD2_lyGiXRzz",
        "colab_type": "code",
        "colab": {
          "base_uri": "https://localhost:8080/",
          "height": 714
        },
        "outputId": "a927eacb-5055-42b1-cf14-ca29358c1b75"
      },
      "source": [
        "A_powers"
      ],
      "execution_count": 7,
      "outputs": [
        {
          "output_type": "execute_result",
          "data": {
            "text/plain": [
              "[array([[0, 1, 1, 1, 0, 0, 0, 0, 0],\n",
              "        [1, 0, 1, 0, 0, 0, 0, 0, 0],\n",
              "        [1, 1, 0, 1, 0, 0, 0, 0, 0],\n",
              "        [1, 0, 1, 0, 1, 1, 0, 0, 0],\n",
              "        [0, 0, 0, 1, 0, 1, 1, 1, 0],\n",
              "        [0, 0, 0, 1, 1, 0, 1, 1, 0],\n",
              "        [0, 0, 0, 0, 1, 1, 0, 1, 1],\n",
              "        [0, 0, 0, 0, 1, 1, 1, 0, 0],\n",
              "        [0, 0, 0, 0, 0, 0, 1, 0, 0]]), array([[3, 1, 2, 1, 1, 1, 0, 0, 0],\n",
              "        [1, 2, 1, 2, 0, 0, 0, 0, 0],\n",
              "        [2, 1, 3, 1, 1, 1, 0, 0, 0],\n",
              "        [1, 2, 1, 4, 1, 1, 2, 2, 0],\n",
              "        [1, 0, 1, 1, 4, 3, 2, 2, 1],\n",
              "        [1, 0, 1, 1, 3, 4, 2, 2, 1],\n",
              "        [0, 0, 0, 2, 2, 2, 4, 2, 0],\n",
              "        [0, 0, 0, 2, 2, 2, 2, 3, 1],\n",
              "        [0, 0, 0, 0, 1, 1, 0, 1, 1]]), array([[ 4,  5,  5,  7,  2,  2,  2,  2,  0],\n",
              "        [ 5,  2,  5,  2,  2,  2,  0,  0,  0],\n",
              "        [ 5,  5,  4,  7,  2,  2,  2,  2,  0],\n",
              "        [ 7,  2,  7,  4,  9,  9,  4,  4,  2],\n",
              "        [ 2,  2,  2,  9,  8,  9, 10,  9,  2],\n",
              "        [ 2,  2,  2,  9,  9,  8, 10,  9,  2],\n",
              "        [ 2,  0,  2,  4, 10, 10,  6,  8,  4],\n",
              "        [ 2,  0,  2,  4,  9,  9,  8,  6,  2],\n",
              "        [ 0,  0,  0,  2,  2,  2,  4,  2,  0]]), array([[17,  9, 16, 13, 13, 13,  6,  6,  2],\n",
              "        [ 9, 10,  9, 14,  4,  4,  4,  4,  0],\n",
              "        [16,  9, 17, 13, 13, 13,  6,  6,  2],\n",
              "        [13, 14, 13, 32, 21, 21, 24, 22,  4],\n",
              "        [13,  4, 13, 21, 37, 36, 28, 27, 10],\n",
              "        [13,  4, 13, 21, 36, 37, 28, 27, 10],\n",
              "        [ 6,  4,  6, 24, 28, 28, 32, 26,  6],\n",
              "        [ 6,  4,  6, 22, 27, 27, 26, 26,  8],\n",
              "        [ 2,  0,  2,  4, 10, 10,  6,  8,  4]]), array([[ 38,  33,  39,  59,  38,  38,  34,  32,   6],\n",
              "        [ 33,  18,  33,  26,  26,  26,  12,  12,   4],\n",
              "        [ 39,  33,  38,  59,  38,  38,  34,  32,   6],\n",
              "        [ 59,  26,  59,  68,  99,  99,  68,  66,  24],\n",
              "        [ 38,  26,  38,  99, 112, 113, 110, 101,  28],\n",
              "        [ 38,  26,  38,  99, 113, 112, 110, 101,  28],\n",
              "        [ 34,  12,  34,  68, 110, 110,  88,  88,  32],\n",
              "        [ 32,  12,  32,  66, 101, 101,  88,  80,  26],\n",
              "        [  6,   4,   6,  24,  28,  28,  32,  26,   6]])]"
            ]
          },
          "metadata": {
            "tags": []
          },
          "execution_count": 7
        }
      ]
    },
    {
      "cell_type": "markdown",
      "metadata": {
        "id": "XasbXBAAXd10",
        "colab_type": "text"
      },
      "source": [
        "Compute the sigma values for nodes i and j, with no middle node considered:"
      ]
    },
    {
      "cell_type": "code",
      "metadata": {
        "id": "Xg5PVkewXek-",
        "colab_type": "code",
        "colab": {
          "base_uri": "https://localhost:8080/",
          "height": 170
        },
        "outputId": "a6ac12c4-fc43-47b9-da1f-fac6e55f2670"
      },
      "source": [
        "# Define a matrix. Next, we will fill it up entry by entry:\n",
        "sigma = np.zeros((mat_size,mat_size))\n",
        "sigma"
      ],
      "execution_count": 8,
      "outputs": [
        {
          "output_type": "execute_result",
          "data": {
            "text/plain": [
              "array([[0., 0., 0., 0., 0., 0., 0., 0., 0.],\n",
              "       [0., 0., 0., 0., 0., 0., 0., 0., 0.],\n",
              "       [0., 0., 0., 0., 0., 0., 0., 0., 0.],\n",
              "       [0., 0., 0., 0., 0., 0., 0., 0., 0.],\n",
              "       [0., 0., 0., 0., 0., 0., 0., 0., 0.],\n",
              "       [0., 0., 0., 0., 0., 0., 0., 0., 0.],\n",
              "       [0., 0., 0., 0., 0., 0., 0., 0., 0.],\n",
              "       [0., 0., 0., 0., 0., 0., 0., 0., 0.],\n",
              "       [0., 0., 0., 0., 0., 0., 0., 0., 0.]])"
            ]
          },
          "metadata": {
            "tags": []
          },
          "execution_count": 8
        }
      ]
    },
    {
      "cell_type": "markdown",
      "metadata": {
        "id": "QnG2T7ksXinj",
        "colab_type": "text"
      },
      "source": [
        "CLAIM: The length of a shortest path from i to j is the smallest m such that the i,j entry of A^m is nonzero. Therefore, the number of shortest paths from i to j is the i,j entry of A^m for this particular m.\n",
        "use a nested loop to build sigma. Also keep track of the minimal lengths for each pair of nodes."
      ]
    },
    {
      "cell_type": "code",
      "metadata": {
        "id": "mD4bkQfiXkzI",
        "colab_type": "code",
        "colab": {
          "base_uri": "https://localhost:8080/",
          "height": 170
        },
        "outputId": "7d21cd94-7dc3-471d-85e8-97237d20d4c2"
      },
      "source": [
        "min_lengths = np.zeros((mat_size,mat_size))\n",
        "min_lengths"
      ],
      "execution_count": 9,
      "outputs": [
        {
          "output_type": "execute_result",
          "data": {
            "text/plain": [
              "array([[0., 0., 0., 0., 0., 0., 0., 0., 0.],\n",
              "       [0., 0., 0., 0., 0., 0., 0., 0., 0.],\n",
              "       [0., 0., 0., 0., 0., 0., 0., 0., 0.],\n",
              "       [0., 0., 0., 0., 0., 0., 0., 0., 0.],\n",
              "       [0., 0., 0., 0., 0., 0., 0., 0., 0.],\n",
              "       [0., 0., 0., 0., 0., 0., 0., 0., 0.],\n",
              "       [0., 0., 0., 0., 0., 0., 0., 0., 0.],\n",
              "       [0., 0., 0., 0., 0., 0., 0., 0., 0.],\n",
              "       [0., 0., 0., 0., 0., 0., 0., 0., 0.]])"
            ]
          },
          "metadata": {
            "tags": []
          },
          "execution_count": 9
        }
      ]
    },
    {
      "cell_type": "code",
      "metadata": {
        "id": "vHxC6NEwXnTQ",
        "colab_type": "code",
        "colab": {}
      },
      "source": [
        "for i in range(mat_size):\n",
        "    for j in range(mat_size):\n",
        "        for x in range(pow_size-1):\n",
        "            X = A_powers[x].copy()\n",
        "            if X[i,j] > 0 and i != j:\n",
        "                sigma[i,j] = X[i,j]\n",
        "                min_lengths[i,j] = x + 1\n",
        "                break"
      ],
      "execution_count": 10,
      "outputs": []
    },
    {
      "cell_type": "markdown",
      "metadata": {
        "id": "yjTgZYP7XpXR",
        "colab_type": "text"
      },
      "source": [
        "Now compute the other terms, which depend on one node at a time. So, let's repeat the above calculation with node j isolated from the rest of the graph, then subtract."
      ]
    },
    {
      "cell_type": "code",
      "metadata": {
        "id": "hPFV3kHBXrg-",
        "colab_type": "code",
        "colab": {}
      },
      "source": [
        "def sigma_through_jay(j):\n",
        "    # Number of shortest paths through node j\n",
        "    B = A.copy()\n",
        "    B[j] = np.zeros(mat_size)\n",
        "    B[:,j] = np.zeros(mat_size)\n",
        "    B_powers = [np.linalg.matrix_power(B,m) for m in [1,2,3,4,5]] ##[1,2,3,4,5]]\n",
        "    B_sigma = np.zeros((mat_size,mat_size))\n",
        "    B_min_lengths = np.zeros((mat_size,mat_size))\n",
        "    for i in range(mat_size):\n",
        "        for k in range(mat_size):\n",
        "            if i != k:\n",
        "                X = B_powers[int(min_lengths[i,k]-1)]\n",
        "                B_sigma[i,k] = X[i,k]\n",
        "    return (sigma - B_sigma)"
      ],
      "execution_count": 11,
      "outputs": []
    },
    {
      "cell_type": "markdown",
      "metadata": {
        "id": "dsv0iL--Xuge",
        "colab_type": "text"
      },
      "source": [
        "Define a function that takes a node number and returns its betweenness centrality value!"
      ]
    },
    {
      "cell_type": "markdown",
      "metadata": {
        "id": "RNe7mBDHE-Xm",
        "colab_type": "text"
      },
      "source": [
        "**=== BETWEENNESS CENTRALITY ===**"
      ]
    },
    {
      "cell_type": "code",
      "metadata": {
        "id": "IGP0KsOuE9uQ",
        "colab_type": "code",
        "colab": {}
      },
      "source": [
        "def betweenness_centrality(j):\n",
        "    # Finally, the betweenness\n",
        "    sigst = sigma_through_jay(j)\n",
        "    total = 0\n",
        "    for i in range(mat_size):\n",
        "        for k in range(i):\n",
        "            if i != j and k != j:\n",
        "                total += sigst[i,k] / sigma[i,k]\n",
        "    # We return a single number.\n",
        "    return total"
      ],
      "execution_count": 12,
      "outputs": []
    },
    {
      "cell_type": "markdown",
      "metadata": {
        "id": "Muy_y0OtFD8K",
        "colab_type": "text"
      },
      "source": [
        "**CALCULATE BETWEENNESS CENTRALITY**"
      ]
    },
    {
      "cell_type": "code",
      "metadata": {
        "id": "EdoNvE7OFDYp",
        "colab_type": "code",
        "colab": {
          "base_uri": "https://localhost:8080/",
          "height": 51
        },
        "outputId": "116be8aa-7c20-43c9-938c-834055ca573a"
      },
      "source": [
        "betweennessCentralityValues = [betweenness_centrality(x) for x in range(mat_size)]\n",
        "print(\"Betweenness Centralities of the Graph: \\n\", betweennessCentralityValues)\n"
      ],
      "execution_count": 13,
      "outputs": [
        {
          "output_type": "stream",
          "text": [
            "Betweenness Centralities of the Graph: \n",
            " [3.0, 0.0, 3.0, 15.0, 6.0, 6.0, 7.0, 0.0, 0.0]\n"
          ],
          "name": "stdout"
        }
      ]
    },
    {
      "cell_type": "markdown",
      "metadata": {
        "id": "cf0OIdawFNno",
        "colab_type": "text"
      },
      "source": [
        "**CONVERT USING NETWORKX**\n",
        "\n",
        "Calculate Betweenness Centrality using NetworkX.\n",
        "\n",
        "We want to compare the result with and without Networkx Library."
      ]
    },
    {
      "cell_type": "code",
      "metadata": {
        "id": "U-C_Jd5BFM1s",
        "colab_type": "code",
        "colab": {}
      },
      "source": [
        "# Converting the graph to a NetworkX Graph:\n",
        "H = nx.from_numpy_matrix(A)"
      ],
      "execution_count": 14,
      "outputs": []
    },
    {
      "cell_type": "code",
      "metadata": {
        "id": "h9TxgoSaFSfi",
        "colab_type": "code",
        "colab": {
          "base_uri": "https://localhost:8080/",
          "height": 119
        },
        "outputId": "dbd1ee21-8116-4e6b-c29b-edba303e47ce"
      },
      "source": [
        "print(\"----------------------------------------------------------------------------------\")\n",
        "betweennessCentralityValues = [betweenness_centrality(x) for x in range(mat_size)]\n",
        "print(\"Calculated Betweenness Centralities: \\n\", betweennessCentralityValues)\n",
        "print(\"\\nNetworkX Betweenness Centralities: \\n\", nx.betweenness_centrality(H, normalized=False).values())\n"
      ],
      "execution_count": 15,
      "outputs": [
        {
          "output_type": "stream",
          "text": [
            "----------------------------------------------------------------------------------\n",
            "Calculated Betweenness Centralities: \n",
            " [3.0, 0.0, 3.0, 15.0, 6.0, 6.0, 7.0, 0.0, 0.0]\n",
            "\n",
            "NetworkX Betweenness Centralities: \n",
            " dict_values([3.0, 0.0, 3.0, 15.0, 6.0, 6.0, 7.0, 0.0, 0.0])\n"
          ],
          "name": "stdout"
        }
      ]
    },
    {
      "cell_type": "code",
      "metadata": {
        "id": "BFqrwuaMPupi",
        "colab_type": "code",
        "colab": {
          "base_uri": "https://localhost:8080/",
          "height": 846
        },
        "outputId": "275914ca-77b6-4538-f7a5-0201a898b2c0"
      },
      "source": [
        "plt.figure(figsize =(15, 15)) \n",
        "nx.draw_networkx(temp_Graph, with_labels = True) "
      ],
      "execution_count": 16,
      "outputs": [
        {
          "output_type": "display_data",
          "data": {
            "image/png": "[encoded data removed]",
            "text/plain": [
              "<Figure size 1080x1080 with 1 Axes>"
            ]
          },
          "metadata": {
            "tags": []
          }
        }
      ]
    }
  ]
}