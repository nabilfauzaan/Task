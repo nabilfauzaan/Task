{
  "nbformat": 4,
  "nbformat_minor": 0,
  "metadata": {
    "colab": {
      "name": "Tutorial Closeness Centrality.ipynb",
      "provenance": []
    },
    "kernelspec": {
      "name": "python3",
      "display_name": "Python 3"
    }
  },
  "cells": [
    {
      "cell_type": "markdown",
      "metadata": {
        "id": "BCfZTIcdGf2l",
        "colab_type": "text"
      },
      "source": [
        "# **CENTRALITY MEASUREMENT**\n",
        "\n",
        "\n",
        "Implement Closeness Centrality in Python.\n",
        "\n",
        "\n",
        "\n",
        "\n",
        "\n",
        "> **Input:** adjacency matrix\n",
        "\n",
        "\n",
        "> **Output:** a list or vector of centrality values\n",
        "\n",
        "\n",
        "\n",
        "\n",
        "\n"
      ]
    },
    {
      "cell_type": "markdown",
      "metadata": {
        "id": "0U0U9uA0Ezf0",
        "colab_type": "text"
      },
      "source": [
        "Import Library\n"
      ]
    },
    {
      "cell_type": "code",
      "metadata": {
        "id": "_4kQlGAIEs1j",
        "colab_type": "code",
        "colab": {}
      },
      "source": [
        "import numpy as np\n",
        "import networkx as nx\n",
        "import matplotlib.pyplot as plt"
      ],
      "execution_count": 55,
      "outputs": []
    },
    {
      "cell_type": "markdown",
      "metadata": {
        "id": "cWo5hC9kE4rL",
        "colab_type": "text"
      },
      "source": [
        "**Creating Graph**\n",
        "\n",
        "Input: adjacency matrix\n"
      ]
    },
    {
      "cell_type": "code",
      "metadata": {
        "id": "LhCECTGtE4NO",
        "colab_type": "code",
        "colab": {
          "base_uri": "https://localhost:8080/",
          "height": 187
        },
        "outputId": "7e422d20-f2d4-4b37-ffbc-adeac0d1bedf"
      },
      "source": [
        "A = np.array([[0,1,1,1,0,0,0,0,0],[1,0,1,0,0,0,0,0,0],[1,1,0,1,0,0,0,0,0],[1,0,1,0,1,1,0,0,0],[0,0,0,1,0,1,1,1,0],\n",
        "              [0,0,0,1,1,0,1,1,0],[0,0,0,0,1,1,0,1,1],[0,0,0,0,1,1,1,0,0],[0,0,0,0,0,0,1,0,0]])\n",
        "mat_size = len(A)\n",
        "print(\"Graph of Size\", mat_size,\":\")\n",
        "print(A)"
      ],
      "execution_count": 56,
      "outputs": [
        {
          "output_type": "stream",
          "text": [
            "Graph of Size 9 :\n",
            "[[0 1 1 1 0 0 0 0 0]\n",
            " [1 0 1 0 0 0 0 0 0]\n",
            " [1 1 0 1 0 0 0 0 0]\n",
            " [1 0 1 0 1 1 0 0 0]\n",
            " [0 0 0 1 0 1 1 1 0]\n",
            " [0 0 0 1 1 0 1 1 0]\n",
            " [0 0 0 0 1 1 0 1 1]\n",
            " [0 0 0 0 1 1 1 0 0]\n",
            " [0 0 0 0 0 0 1 0 0]]\n"
          ],
          "name": "stdout"
        }
      ]
    },
    {
      "cell_type": "markdown",
      "metadata": {
        "id": "hrBOa0RcTsec",
        "colab_type": "text"
      },
      "source": [
        "**Initializing Graphs and Matrices:**"
      ]
    },
    {
      "cell_type": "code",
      "metadata": {
        "id": "6aMjfsNzSYEK",
        "colab_type": "code",
        "colab": {
          "base_uri": "https://localhost:8080/",
          "height": 170
        },
        "outputId": "f29a207a-eccc-4d32-d274-addb13240528"
      },
      "source": [
        "# Converting it to a NetworkX Graph:\n",
        "temp_Graph = nx.from_numpy_matrix(A)\n",
        "\n",
        "# Creating a blank Step Matrix \n",
        "step_mat = np.zeros((mat_size,mat_size))\n",
        "step_mat"
      ],
      "execution_count": 57,
      "outputs": [
        {
          "output_type": "execute_result",
          "data": {
            "text/plain": [
              "array([[0., 0., 0., 0., 0., 0., 0., 0., 0.],\n",
              "       [0., 0., 0., 0., 0., 0., 0., 0., 0.],\n",
              "       [0., 0., 0., 0., 0., 0., 0., 0., 0.],\n",
              "       [0., 0., 0., 0., 0., 0., 0., 0., 0.],\n",
              "       [0., 0., 0., 0., 0., 0., 0., 0., 0.],\n",
              "       [0., 0., 0., 0., 0., 0., 0., 0., 0.],\n",
              "       [0., 0., 0., 0., 0., 0., 0., 0., 0.],\n",
              "       [0., 0., 0., 0., 0., 0., 0., 0., 0.],\n",
              "       [0., 0., 0., 0., 0., 0., 0., 0., 0.]])"
            ]
          },
          "metadata": {
            "tags": []
          },
          "execution_count": 57
        }
      ]
    },
    {
      "cell_type": "markdown",
      "metadata": {
        "id": "eYEwWCAxT0zY",
        "colab_type": "text"
      },
      "source": [
        "**Calculate Step Matrix for A[pow_size]:**"
      ]
    },
    {
      "cell_type": "code",
      "metadata": {
        "id": "gSpwuRU6T2bX",
        "colab_type": "code",
        "colab": {
          "base_uri": "https://localhost:8080/",
          "height": 170
        },
        "outputId": "c3270abf-5016-4a1b-aab8-9333428f20d8"
      },
      "source": [
        "# Calculate the steps in between nodes and save it in the step matrix:\n",
        "def step_betn_nodes(step_mat):\n",
        "    for from_node in range(mat_size):\n",
        "        for to_node in range(mat_size):\n",
        "            lengthPath = nx.dijkstra_path_length(temp_Graph, from_node, to_node)\n",
        "            #print(\"Path Length: \",lengthPath)\n",
        "            step_mat[from_node][to_node] = lengthPath\n",
        "            step_mat[to_node][from_node] = lengthPath\n",
        "\n",
        "step_betn_nodes(step_mat)\n",
        "print(step_mat)"
      ],
      "execution_count": 58,
      "outputs": [
        {
          "output_type": "stream",
          "text": [
            "[[0. 1. 1. 1. 2. 2. 3. 3. 4.]\n",
            " [1. 0. 1. 2. 3. 3. 4. 4. 5.]\n",
            " [1. 1. 0. 1. 2. 2. 3. 3. 4.]\n",
            " [1. 2. 1. 0. 1. 1. 2. 2. 3.]\n",
            " [2. 3. 2. 1. 0. 1. 1. 1. 2.]\n",
            " [2. 3. 2. 1. 1. 0. 1. 1. 2.]\n",
            " [3. 4. 3. 2. 1. 1. 0. 1. 1.]\n",
            " [3. 4. 3. 2. 1. 1. 1. 0. 2.]\n",
            " [4. 5. 4. 3. 2. 2. 1. 2. 0.]]\n"
          ],
          "name": "stdout"
        }
      ]
    },
    {
      "cell_type": "markdown",
      "metadata": {
        "id": "RNe7mBDHE-Xm",
        "colab_type": "text"
      },
      "source": [
        "**=== CLOSENESS CENTRALITY ===**"
      ]
    },
    {
      "cell_type": "code",
      "metadata": {
        "id": "IGP0KsOuE9uQ",
        "colab_type": "code",
        "colab": {}
      },
      "source": [
        "# to perform Summation of any Row:\n",
        "def sum_of_row(graph, a):\n",
        "    degSum = 0\n",
        "    # Summing all columns in the row\n",
        "    for column in range(mat_size):\n",
        "        degSum += graph[a,column]\n",
        "    return degSum\n",
        "\n",
        "def closenessCentrality(b):\n",
        "    closeSum = sum_of_row(step_mat, b)\n",
        "    \n",
        "    # dividing the (n-1) nodes with the sum of the closeness_values \n",
        "    result = ((mat_size-1)/closeSum)\n",
        "    \n",
        "    # We return a single number.\n",
        "    return result"
      ],
      "execution_count": 59,
      "outputs": []
    },
    {
      "cell_type": "markdown",
      "metadata": {
        "id": "Muy_y0OtFD8K",
        "colab_type": "text"
      },
      "source": [
        "**CALCULATE CLOSENESS CENTRALITY**"
      ]
    },
    {
      "cell_type": "code",
      "metadata": {
        "id": "EdoNvE7OFDYp",
        "colab_type": "code",
        "colab": {
          "base_uri": "https://localhost:8080/",
          "height": 71
        },
        "outputId": "97d9bda5-c14a-468d-d581-9dc0bae01a87"
      },
      "source": [
        "closenessCentralityValues = [closenessCentrality(b) for b in range(mat_size)]\n",
        "print(\"Closeness Centralities of the Graph: \\n\", closenessCentralityValues)"
      ],
      "execution_count": 60,
      "outputs": [
        {
          "output_type": "stream",
          "text": [
            "Closeness Centralities of the Graph: \n",
            " [0.47058823529411764, 0.34782608695652173, 0.47058823529411764, 0.6153846153846154, 0.6153846153846154, 0.6153846153846154, 0.5, 0.47058823529411764, 0.34782608695652173]\n"
          ],
          "name": "stdout"
        }
      ]
    },
    {
      "cell_type": "markdown",
      "metadata": {
        "id": "cf0OIdawFNno",
        "colab_type": "text"
      },
      "source": [
        "**CONVERT USING NETWORKX**\n",
        "\n",
        "Calculate Closeness Centrality using NetworkX.\n",
        "\n",
        "We want to compare the result with and without Networkx Library."
      ]
    },
    {
      "cell_type": "code",
      "metadata": {
        "id": "U-C_Jd5BFM1s",
        "colab_type": "code",
        "colab": {}
      },
      "source": [
        "# Converting the graph to a NetworkX Graph:\n",
        "H = nx.from_numpy_matrix(A)"
      ],
      "execution_count": 61,
      "outputs": []
    },
    {
      "cell_type": "code",
      "metadata": {
        "id": "h9TxgoSaFSfi",
        "colab_type": "code",
        "colab": {
          "base_uri": "https://localhost:8080/",
          "height": 139
        },
        "outputId": "a5708e7c-8cbb-4e77-9e89-4d74bd506ee6"
      },
      "source": [
        "print(\"----------------------------------------------------------------------------------\")\n",
        "closenessCentralityValues = [closenessCentrality(b) for b in range(mat_size)]\n",
        "print(\"Calculated Closeness Centralities: \\n\", closenessCentralityValues)\n",
        "print(\"\\nNetworkX Closeness Centralities: \\n\", nx.closeness_centrality(temp_Graph))\n"
      ],
      "execution_count": 62,
      "outputs": [
        {
          "output_type": "stream",
          "text": [
            "----------------------------------------------------------------------------------\n",
            "Calculated Closeness Centralities: \n",
            " [0.47058823529411764, 0.34782608695652173, 0.47058823529411764, 0.6153846153846154, 0.6153846153846154, 0.6153846153846154, 0.5, 0.47058823529411764, 0.34782608695652173]\n",
            "\n",
            "NetworkX Closeness Centralities: \n",
            " {0: 0.47058823529411764, 1: 0.34782608695652173, 2: 0.47058823529411764, 3: 0.6153846153846154, 4: 0.6153846153846154, 5: 0.6153846153846154, 6: 0.5, 7: 0.47058823529411764, 8: 0.34782608695652173}\n"
          ],
          "name": "stdout"
        }
      ]
    },
    {
      "cell_type": "code",
      "metadata": {
        "id": "BFqrwuaMPupi",
        "colab_type": "code",
        "colab": {
          "base_uri": "https://localhost:8080/",
          "height": 846
        },
        "outputId": "dfd8684b-3920-4a4d-a200-44ba79ac75cf"
      },
      "source": [
        "plt.figure(figsize =(15, 15)) \n",
        "nx.draw_networkx(temp_Graph, with_labels = True) "
      ],
      "execution_count": 54,
      "outputs": [
        {
          "output_type": "display_data",
          "data": {
            "image/png": "[encoded data removed]",
            "text/plain": [
              "<Figure size 1080x1080 with 1 Axes>"
            ]
          },
          "metadata": {
            "tags": []
          }
        }
      ]
    }
  ]
}